{
 "cells": [
  {
   "cell_type": "markdown",
   "metadata": {},
   "source": [
    "# Transformações geométricas - Parte 1 do Projeto de Visão"
   ]
  },
  {
   "cell_type": "markdown",
   "metadata": {},
   "source": [
    "Vamos gerar uma imagem de entrada com algumas coordenadas conhecidas.  Desta seção você só vai precisar das coordenadas dos pontos na imagem de entrada e na imagem de saída"
   ]
  },
  {
   "cell_type": "code",
   "execution_count": 45,
   "metadata": {
    "collapsed": false
   },
   "outputs": [],
   "source": [
    "import matplotlib.pyplot as plt\n",
    "\n",
    "from matplotlib import colors\n",
    "\n",
    "import cv2\n",
    "\n",
    "import numpy as np\n",
    "\n",
    "%matplotlib inline\n",
    "\n",
    "\n",
    "sp_x = 30\n",
    "sp_y = 30\n",
    "x_blocks = 6\n",
    "y_blocks = 6"
   ]
  },
  {
   "cell_type": "code",
   "execution_count": 46,
   "metadata": {
    "collapsed": false
   },
   "outputs": [],
   "source": [
    "# Cria uma imagem RGB  em branco\n",
    "blank = 255*np.ones((sp_x * x_blocks,sp_y*y_blocks,3), np.uint8)"
   ]
  },
  {
   "cell_type": "code",
   "execution_count": 47,
   "metadata": {
    "collapsed": true
   },
   "outputs": [],
   "source": [
    "# Coordenadas de entrada de alguns pontos\n",
    "points = [[1,1],\n",
    "          [5,1],\n",
    "          [1,3],\n",
    "          [3,3],\n",
    "          [5,3],\n",
    "          [1,5],\n",
    "          [5,5]]"
   ]
  },
  {
   "cell_type": "code",
   "execution_count": 48,
   "metadata": {
    "collapsed": true
   },
   "outputs": [],
   "source": [
    "# Cores a usar para os pontos\n",
    "point_colors = ['r', 'g', 'b', 'c', 'm', 'y', 'k']"
   ]
  },
  {
   "cell_type": "markdown",
   "metadata": {},
   "source": [
    "## Coordenadas dos pontos na imagem de entrada\n",
    "\n",
    "Este loop imprime as coordenadas.\n",
    "\n",
    "As cores dos pontos servem para identificá-los"
   ]
  },
  {
   "cell_type": "code",
   "execution_count": 49,
   "metadata": {
    "collapsed": false
   },
   "outputs": [
    {
     "name": "stdout",
     "output_type": "stream",
     "text": [
      "Posição dos pontos: (x_entrada, y_entrada)\n",
      "(30, 30)\n",
      "(150, 30)\n",
      "(30, 90)\n",
      "(90, 90)\n",
      "(150, 90)\n",
      "(30, 150)\n",
      "(150, 150)\n"
     ]
    }
   ],
   "source": [
    "sp_x = 30 # x spacing\n",
    "sp_y = 30 # y spacing\n",
    "point_size = 5\n",
    "print(\"Posição dos pontos: (x_entrada, y_entrada)\")\n",
    "\n",
    "for i in range(len(points)):\n",
    "    point_color = [int(255*canal) for canal in colors.colorConverter.colors[point_colors[i]]]\n",
    "    point_position = (sp_x*points[i][0], sp_y*points[i][1])\n",
    "    print(point_position)\n",
    "    cv2.circle(blank,point_position, point_size, point_color, -1)\n"
   ]
  },
  {
   "cell_type": "markdown",
   "metadata": {},
   "source": [
    "## Imagem de entrada"
   ]
  },
  {
   "cell_type": "code",
   "execution_count": 50,
   "metadata": {
    "collapsed": false
   },
   "outputs": [
    {
     "data": {
      "text/plain": [
       "<matplotlib.image.AxesImage at 0x7f9cca576250>"
      ]
     },
     "execution_count": 50,
     "metadata": {},
     "output_type": "execute_result"
    },
    {
     "data": {
      "image/png": "[encoded data removed]",
      "text/plain": [
       "<matplotlib.figure.Figure at 0x7f9cca5e8250>"
      ]
     },
     "metadata": {},
     "output_type": "display_data"
    }
   ],
   "source": [
    "plt.imshow(blank)"
   ]
  },
  {
   "cell_type": "markdown",
   "metadata": {},
   "source": [
    "Se precisar abrir a imagem fora deste *notebook*, use o arquivo `dots_pattern.png`\n"
   ]
  },
  {
   "cell_type": "code",
   "execution_count": 51,
   "metadata": {
    "collapsed": false
   },
   "outputs": [
    {
     "data": {
      "text/plain": [
       "True"
      ]
     },
     "execution_count": 51,
     "metadata": {},
     "output_type": "execute_result"
    }
   ],
   "source": [
    "cv2.imwrite(\"dots_pattern.png\", blank)"
   ]
  },
  {
   "cell_type": "markdown",
   "metadata": {},
   "source": [
    "## Padrão de saída\n",
    "\n",
    "Foi aplicada uma transformação à imagem de entrada, que gerou o seguinte padrão de saída:"
   ]
  },
  {
   "cell_type": "code",
   "execution_count": 52,
   "metadata": {
    "collapsed": false
   },
   "outputs": [],
   "source": [
    "saida = cv2.imread(\"patterns_transformed.png\")\n",
    "\n",
    "saida_rgb = cv2.cvtColor(saida, cv2.COLOR_BGR2RGB)"
   ]
  },
  {
   "cell_type": "code",
   "execution_count": 53,
   "metadata": {
    "collapsed": false
   },
   "outputs": [
    {
     "data": {
      "text/plain": [
       "<matplotlib.image.AxesImage at 0x7f9cca489a10>"
      ]
     },
     "execution_count": 53,
     "metadata": {},
     "output_type": "execute_result"
    },
    {
     "data": {
      "image/png": "[encoded data removed]",
      "text/plain": [
       "<matplotlib.figure.Figure at 0x7f9cca5afe50>"
      ]
     },
     "metadata": {},
     "output_type": "display_data"
    }
   ],
   "source": [
    "plt.imshow(saida_rgb)"
   ]
  },
  {
   "cell_type": "markdown",
   "metadata": {},
   "source": [
    "Sabe-se que a imagem de saída é igual a uma combinação de rotações em torno de um ponto arbitrário e  redimensionamentos (escala) da imagem de entrada. Para simplificar, assuma que o redimensionamento é igual nos eixos $x$ e $y$\n",
    "\n",
    "Cada ponto da imagem de saída está relacionado à sua posição na imagem de entrada pela seguinte transformação:\n",
    "\n",
    "$$\n",
    "\\begin{pmatrix}\n",
    "x_{saida} \\\\\n",
    "y_{saida} \\\\\n",
    "1\n",
    "\\end{pmatrix}\n",
    " = \n",
    "\\begin{pmatrix}\n",
    "   \\alpha &\\beta &(1-\\alpha \\cdot center.x - \\beta \\cdot center.y) \\\\\n",
    "   -\\beta & \\alpha & \\beta \\cdot center.x + (1 - \\alpha \\cdot center.y) \\\\ 0 & 0 & 1\n",
    "\\end{pmatrix} \\cdot \\begin{pmatrix} x_{entrada} \\\\ y_{entrada} \\\\ 1 \\end{pmatrix} \n",
    "$$\n",
    "\n",
    "Na equação acima:\n",
    "\n",
    "$\\alpha = escala \\cdot \\cos(\\theta)$ \n",
    "\n",
    "$\\beta = escala \\cdot \\sin(\\theta) $ \n",
    "\n",
    "$x_{entrada}$ é a posição $x$ de cada pixel na imagem de entrada\n",
    "\n",
    "$y_{entrada}$ é a posição $y$ de cada pixel na imagem de entrada\n",
    "\n",
    "$center$ é o centro de rotação\n",
    "\n",
    "$x_{saída}$ é a coordenada $x$ do pixel na imagem de saída\n",
    "\n",
    "$y_{saída}$ é a coordenada $y$ do pixel na imagem de saída\n",
    "\n",
    "\n",
    "Com translação:\n",
    "\n",
    "$$\n",
    "\\begin{pmatrix}\n",
    "x_{saida} \\\\\n",
    "y_{saida} \\\\\n",
    "1\n",
    "\\end{pmatrix}\n",
    " =\n",
    "\\begin{pmatrix}\n",
    "   \\alpha &\\beta &(1-\\alpha \\cdot center.x - \\beta \\cdot center.y) + t_x \\\\\n",
    "   -\\beta & \\alpha & \\beta \\cdot center.x + (1 - \\alpha \\cdot center.y) + t_y \\\\ 0 & 0 & 1\n",
    "\\end{pmatrix} \\cdot \\begin{pmatrix} x_{entrada} \\\\ y_{entrada} \\\\ 1 \\end{pmatrix}\n",
    "$$\n",
    "\n"
   ]
  },
  {
   "cell_type": "markdown",
   "metadata": {},
   "source": [
    "# Matrizes de transformação com rotação, translação e escala\n",
    "\n",
    "\n",
    "Uma matriz de translação por uma distância $ [ x_t   y_t ]$ em 2D é:\n",
    "\n",
    "$$\n",
    "T = \\begin{pmatrix} 1 & 0 & x_t \\\\\n",
    "0 & 1 & y_t \\\\\n",
    "0 & 0 & 1 \n",
    "\\end{pmatrix}\n",
    "$$\n",
    "\n",
    "Uma matriz de rotação por um ângulo $\\theta$ é:\n",
    "\n",
    "$$\n",
    "R = \\begin{pmatrix} \\cos(\\theta) & -\\sin(\\theta) & 0 \\\\\n",
    "\\sin(\\theta) & \\cos(\\theta) & 0 \\\\\n",
    "0 & 0 & 1 \n",
    "\\end{pmatrix}\n",
    "$$\n",
    "\n",
    "Uma matriz que aplica um fator de escala  $s$ igual nos eixos $x$ e $y$ é:\n",
    "\n",
    "\n",
    "$$\n",
    "S = \\begin{pmatrix} s & 0  & 0 \\\\\n",
    "0 & s & 0 \\\\\n",
    "0 & 0 & 1 \n",
    "\\end{pmatrix}\n",
    "$$\n",
    "\n",
    "\n",
    "Uma transformação genérica, composta de rotação, escala e transação (nesta ordem) é dada por:\n",
    "\n",
    "$$\n",
    "M = T \\cdot S \\cdot R\n",
    "$$\n",
    "\n",
    "Ou seja:\n",
    "$$\n",
    "M = \\begin{pmatrix} 1 & 0 & x_t \\\\\n",
    "0 & 1 & y_t \\\\\n",
    "0 & 0 & 1 \n",
    "\\end{pmatrix}\n",
    "\\cdot\n",
    "\\begin{pmatrix} \\cos(\\theta) & -\\sin(\\theta) & 0 \\\\\n",
    "\\sin(\\theta) & \\cos(\\theta) & 0 \\\\\n",
    "0 & 0 & 1 \n",
    "\\end{pmatrix}\n",
    "\\cdot\n",
    "\\begin{pmatrix} s & 0  & 0 \\\\\n",
    "0 & s & 0 \\\\\n",
    "0 & 0 & 1 \n",
    "\\end{pmatrix}\n",
    "$$\n",
    "\n",
    "Multiplicando as três matrizes, temos que uma transformação afim composta de rotação, escala e translação é:\n",
    "\n",
    "$$\n",
    "M = \\begin{pmatrix} s\\cdot\\cos(\\theta) & -s\\cdot\\sin(\\theta) & x_t \\\\\n",
    "-s\\cdot\\sin(\\theta) & -s\\cdot\\cos(\\theta) & y_t \\\\\n",
    "0 & 0 & 1 \n",
    "\\end{pmatrix}\n",
    "$$\n",
    "\n",
    "\n",
    "Desta forma, um ponto de entrada representado por $( x_{i}, y_{i} ) $ será transformado num ponto de saída $(x_{saida}, y_{saida})$ quando multiplicado pela matrix $M$\n",
    "\n",
    "\n",
    "$$\n",
    "\\begin{pmatrix}x_{saida} \\\\ y_{saida} \\end{pmatrix} = \\begin{pmatrix} s\\cdot\\cos(\\theta) & -s\\cdot\\sin(\\theta) & x_t \\\\\n",
    "-s\\cdot\\sin(\\theta) & -s\\cdot\\cos(\\theta) & y_t \\\\\n",
    "0 & 0 & 1 \n",
    "\\end{pmatrix} \\cdot \\begin{pmatrix} x_{i} \\\\ y_{i} \\end{pmatrix} \n",
    "$$\n",
    "\n",
    "Teremos, então:\n",
    "\n",
    "$$\n",
    "x_{saida} = x_{i} \\cdot s \\cdot \\cos(\\theta) - y_{i} \\cdot s \\cdot \\sin(\\theta) + x_t $$\n",
    "e \n",
    "$$ y_{saida} = - x_{i} \\cdot s \\cdot \\sin(\\theta) - y_{i} \\cdot s \\cdot \\cos(\\theta) + y_t\n",
    "$$\n",
    "\n",
    "Por simplicidade, ao estimar uma transformação, ajuda trabalhar com as seguintes relações:\n",
    "\n",
    "$\\alpha =  s \\cdot \\cos(\\theta)$\n",
    "\n",
    "e \n",
    "\n",
    "$\\beta = s \\cdot \\sin(\\theta) $\n",
    "\n",
    "E encarar a matriz da seguinte forma:\n",
    "\n",
    "\n",
    "$$\n",
    "\\begin{pmatrix}x_{saida} \\\\ y_{saida} \\end{pmatrix} = \\begin{pmatrix} \\alpha & -\\beta & x_t \\\\\n",
    "-\\beta & -\\alpha & y_t \\\\\n",
    "0 & 0 & 1 \n",
    "\\end{pmatrix} \\cdot \\begin{pmatrix} x_{i} \\\\ y_{i} \\end{pmatrix} \n",
    "$$\n",
    "\n"
   ]
  },
  {
   "cell_type": "markdown",
   "metadata": {},
   "source": [
    "# Atividade 1\n",
    "\n",
    "Responda (no IPython Notebook): \n",
    "\n",
    "1. Quantos graus de liberdade (variáveis) determinam a transformação acima?\n",
    "\n",
    "2. Supondo que a transformação aplicada para transformar a imagem de entrada na imagem do arquivo `patterns_transformed.png` é desconhecida, é possível descobrir qual é esta transformação? Como?\n",
    "\n",
    "3. Crie uma tabela para os 7 pontos de entrada fornecidos em que constem quais suas posições na imagem de entrada e depois quais suas posições após transformados, na imagem de saída.\n",
    "\n",
    "4. Considerando o número de variáveis da matriz de transformação fornecida, de quantas correspondências $p_{entrada} \\Rightarrow p_{saida}$ você precisa para descobrir qual é a matriz?\n",
    "\n",
    "5. Por que poderia ser útil usar **mais** correspondências do que a resposta que você deu no item anterior?\n",
    "\n",
    "6. Expanda a equação da transformação usando os pontos de entrada e saída de sua tabela até ter um sistema sobredeterminado. <font color=red> Reserve pelo menos 1 hora para esta atividade - trabalhoso </font>. Talvez você ache útil aprender a usar um *Computer Algebra System* para fazer isso, por exemplo o Sympy ou o Maxima.\n",
    "\n",
    "7. A partir do sistema sobredeterminado que você encontrou no item anterior, resolva e estime qual é a transformação que foi usada para converter a imagem de entrada na imagem de saída. Você pode usar o método de *Least Squares* que está presente no *Scipy* ou o *RANSAC* da OpenCV, por exemplo.\n",
    "\n",
    "8. Aplique a transformação à imagem de entrada e verifique se o resultado que obteve se assemelha à imagem de saída. A função da OpenCV que permite que você faça isso é a *cv2.warpAffine()* "
   ]
  },
  {
   "cell_type": "markdown",
   "metadata": {},
   "source": [
    "1 - 3 graus de liberdade\n",
    "\n",
    "2 - Sim, é possivel descobrir essa transformação resolvendo o sistema linear."
   ]
  },
  {
   "cell_type": "markdown",
   "metadata": {},
   "source": [
    "3 - Entrada:\n",
    "(30, 30)\n",
    "(150, 30)\n",
    "(30, 90)\n",
    "(90, 90)\n",
    "(150, 90)\n",
    "(30, 150)\n",
    "(150, 150) \n",
    "\n",
    "Saida:\n",
    "(138, 96)\n",
    "(250, 142)\n",
    "(115, 150)\n",
    "(172, 174)\n",
    "(227, 197)\n",
    "(91, 206)\n",
    "(202, 254) \n"
   ]
  },
  {
   "cell_type": "markdown",
   "metadata": {},
   "source": [
    "4 - Voce precisa de duas correspondências, que geram 4 equações."
   ]
  },
  {
   "cell_type": "markdown",
   "metadata": {},
   "source": [
    "5 - Poderia ser mais útil, pois mais correspondências diminuem os erros resultantes da análise."
   ]
  },
  {
   "cell_type": "markdown",
   "metadata": {},
   "source": [
    "6."
   ]
  },
  {
   "cell_type": "code",
   "execution_count": 54,
   "metadata": {
    "collapsed": false
   },
   "outputs": [],
   "source": [
    "from sympy import symbols\n",
    "from sympy.core.trace import Tr\n",
    "#from sympy.matrices.matrices import Matrix\n",
    "from IPython.core.display import display_pretty\n",
    "from sympy.printing.latex import *\n",
    "\n",
    "from sympy import init_printing; init_printing()\n",
    "from sympy.interactive import printing\n",
    "#printing.init_printing(use_latex=False) # Use this option if you don't have Latex Installed\n",
    "printing.init_printing(use_latex=True)\n",
    "#printing.init_printing(use_latex=mathjax)\n",
    "\n",
    "from IPython.display import display\n",
    "\n",
    "import sympy as sp\n",
    "import math"
   ]
  },
  {
   "cell_type": "code",
   "execution_count": 55,
   "metadata": {
    "collapsed": true
   },
   "outputs": [],
   "source": [
    "alpha, beta, c_x, c_y,  t_x, t_y, theta, scale, a, b =  sp.symbols(\"alpha, beta, c_x, c_y, t_x, t_y, theta, scale, a, b\")"
   ]
  },
  {
   "cell_type": "code",
   "execution_count": 56,
   "metadata": {
    "collapsed": true
   },
   "outputs": [],
   "source": [
    "\n",
    "# Funções auxiliares para criar as transformações básicas\n",
    "#    return sp.Matrix([[1, 0, 0],[0, 1, 0 ],[0, 0, 1]])\n",
    "\n",
    "\n",
    "def make_translation(transx, transy):\n",
    "    \"\"\"\n",
    "        Receives x and y translation values and returns a translation matrix\n",
    "    \"\"\"\n",
    "    return sp.Matrix([[1, 0, transx],[0, 1, transy ],[0, 0, 1]])\n",
    "\n",
    "def make_rotation(angle):\n",
    "    \"\"\"\n",
    "        Counter-clockwise rotations to match OpenCV.\n",
    "        TODO: really check if OpenCV rotates according to documentation\n",
    "    \"\"\"\n",
    "    a = sp.cos(angle)\n",
    "    b = sp.sin(angle)\n",
    "    return sp.Matrix([[a, b, 0],[-b, a, 0 ],[0, 0, 1]])\n",
    "\n",
    "def make_rotation_scale_a_b():\n",
    "    \"\"\"\n",
    "        returns a generic rotation matrix where\n",
    "        a = scale.cos(angle)\n",
    "        b = scale.sin(angle)\n",
    "    \"\"\"\n",
    "    return sp.Matrix([[a, b, 0],[-b, a, 0 ],[0, 0, 1]])\n",
    "\n",
    "\n",
    "def make_scale(scale_f):\n",
    "    return sp.Matrix([[scale, 0, 0],[0, scale, 0 ],[0, 0, 1]])\n",
    "    \n",
    "def make_column_point(x, y):\n",
    "    return sp.Matrix([[x],[y],[1]])\n"
   ]
  },
  {
   "cell_type": "code",
   "execution_count": 57,
   "metadata": {
    "collapsed": false
   },
   "outputs": [],
   "source": [
    "## Criação de muitos pontos. Vamos fazer com pontos o suficiente para o sistema ser sobredeterminado\n",
    "\n",
    "# Pontos na entrada\n",
    "\n",
    "p0 = make_column_point(30, 30)\n",
    "p1 = make_column_point(150, 30)\n",
    "p2 = make_column_point(30, 90)\n",
    "p3 = make_column_point(90, 90)\n",
    "p4 = make_column_point(150, 90)\n",
    "p5 = make_column_point(30, 150)\n",
    "p6 = make_column_point(150, 150)\n",
    "\n",
    "points_entrada = [p0, p1, p2, p3, p4,p5,p6]\n",
    "\n",
    "# Pontos na saida\n",
    "\n",
    "ps0 = make_column_point(138, 96)\n",
    "ps1 = make_column_point(250, 142)\n",
    "ps2 = make_column_point(115, 150)\n",
    "ps3 = make_column_point(172, 174)\n",
    "ps4 = make_column_point(227, 197)\n",
    "ps5 = make_column_point(91, 206)\n",
    "ps6 = make_column_point(202, 254)\n",
    "\n",
    "points_saida = [ps0, ps1, ps2, ps3, ps4,ps5,ps5,ps6]"
   ]
  },
  {
   "cell_type": "code",
   "execution_count": 58,
   "metadata": {
    "collapsed": true
   },
   "outputs": [],
   "source": [
    "rotab = make_rotation_scale_a_b()\n",
    "trans = make_translation(t_x, t_y)\n",
    "M = trans*rotab"
   ]
  },
  {
   "cell_type": "code",
   "execution_count": 59,
   "metadata": {
    "collapsed": false
   },
   "outputs": [
    {
     "name": "stdout",
     "output_type": "stream",
     "text": [
      "Equations of the overdetermined system\n"
     ]
    },
    {
     "data": {
      "image/png": "[encoded data removed]",
      "text/latex": [
       "$$30 a + 30 b + t_{x} - 138$$"
      ],
      "text/plain": [
       "30⋅a + 30⋅b + tₓ - 138"
      ]
     },
     "metadata": {},
     "output_type": "display_data"
    },
    {
     "data": {
      "image/png": "[encoded data removed]",
      "text/latex": [
       "$$30 a - 30 b + t_{y} - 96$$"
      ],
      "text/plain": [
       "30⋅a - 30⋅b + t_y - 96"
      ]
     },
     "metadata": {},
     "output_type": "display_data"
    },
    {
     "data": {
      "image/png": "[encoded data removed]",
      "text/latex": [
       "$$150 a + 30 b + t_{x} - 250$$"
      ],
      "text/plain": [
       "150⋅a + 30⋅b + tₓ - 250"
      ]
     },
     "metadata": {},
     "output_type": "display_data"
    },
    {
     "data": {
      "image/png": "[encoded data removed]",
      "text/latex": [
       "$$30 a - 150 b + t_{y} - 142$$"
      ],
      "text/plain": [
       "30⋅a - 150⋅b + t_y - 142"
      ]
     },
     "metadata": {},
     "output_type": "display_data"
    },
    {
     "data": {
      "image/png": "[encoded data removed]",
      "text/latex": [
       "$$30 a + 90 b + t_{x} - 115$$"
      ],
      "text/plain": [
       "30⋅a + 90⋅b + tₓ - 115"
      ]
     },
     "metadata": {},
     "output_type": "display_data"
    },
    {
     "data": {
      "image/png": "[encoded data removed]",
      "text/latex": [
       "$$90 a - 30 b + t_{y} - 150$$"
      ],
      "text/plain": [
       "90⋅a - 30⋅b + t_y - 150"
      ]
     },
     "metadata": {},
     "output_type": "display_data"
    },
    {
     "data": {
      "image/png": "[encoded data removed]",
      "text/latex": [
       "$$90 a + 90 b + t_{x} - 172$$"
      ],
      "text/plain": [
       "90⋅a + 90⋅b + tₓ - 172"
      ]
     },
     "metadata": {},
     "output_type": "display_data"
    },
    {
     "data": {
      "image/png": "[encoded data removed]",
      "text/latex": [
       "$$90 a - 90 b + t_{y} - 174$$"
      ],
      "text/plain": [
       "90⋅a - 90⋅b + t_y - 174"
      ]
     },
     "metadata": {},
     "output_type": "display_data"
    },
    {
     "data": {
      "image/png": "[encoded data removed]",
      "text/latex": [
       "$$150 a + 90 b + t_{x} - 227$$"
      ],
      "text/plain": [
       "150⋅a + 90⋅b + tₓ - 227"
      ]
     },
     "metadata": {},
     "output_type": "display_data"
    },
    {
     "data": {
      "image/png": "[encoded data removed]",
      "text/latex": [
       "$$90 a - 150 b + t_{y} - 197$$"
      ],
      "text/plain": [
       "90⋅a - 150⋅b + t_y - 197"
      ]
     },
     "metadata": {},
     "output_type": "display_data"
    },
    {
     "data": {
      "image/png": "[encoded data removed]",
      "text/latex": [
       "$$30 a + 150 b + t_{x} - 91$$"
      ],
      "text/plain": [
       "30⋅a + 150⋅b + tₓ - 91"
      ]
     },
     "metadata": {},
     "output_type": "display_data"
    },
    {
     "data": {
      "image/png": "[encoded data removed]",
      "text/latex": [
       "$$150 a - 30 b + t_{y} - 206$$"
      ],
      "text/plain": [
       "150⋅a - 30⋅b + t_y - 206"
      ]
     },
     "metadata": {},
     "output_type": "display_data"
    },
    {
     "data": {
      "image/png": "[encoded data removed]",
      "text/latex": [
       "$$150 a + 150 b + t_{x} - 91$$"
      ],
      "text/plain": [
       "150⋅a + 150⋅b + tₓ - 91"
      ]
     },
     "metadata": {},
     "output_type": "display_data"
    },
    {
     "data": {
      "image/png": "[encoded data removed]",
      "text/latex": [
       "$$150 a - 150 b + t_{y} - 206$$"
      ],
      "text/plain": [
       "150⋅a - 150⋅b + t_y - 206"
      ]
     },
     "metadata": {},
     "output_type": "display_data"
    }
   ],
   "source": [
    "equations = []\n",
    "system_eq = [] # Sistema de equações supondo =0\n",
    "left_side = [] # Lado esquerdo do sistema\n",
    "\n",
    "for p in points_entrada:\n",
    "    produto = M*p\n",
    "    equations.append(produto)\n",
    "\n",
    "print(\"Equations of the overdetermined system\")\n",
    "    \n",
    "for i in range(len(equations)):\n",
    "    for j in range(len(equations[i][:-1])): # -1 excludes the homogeneous coordinate (extra 1 at the end)\n",
    "        eq = equations[i][j]-points_saida[i][j]\n",
    "        left_side.append(equations[i][j])\n",
    "        system_eq.append(eq)\n",
    "\n",
    "        \n",
    "for equation in system_eq:\n",
    "    display(equation)"
   ]
  },
  {
   "cell_type": "markdown",
   "metadata": {},
   "source": [
    "7."
   ]
  },
  {
   "cell_type": "code",
   "execution_count": 60,
   "metadata": {
    "collapsed": true
   },
   "outputs": [],
   "source": [
    "t_x,a,b,t_y =  sp.symbols(\"x,a,b,y\")"
   ]
  },
  {
   "cell_type": "markdown",
   "metadata": {},
   "source": [
    "Nao consegui trabalhar com sistemas sobre-determinados, portanto usei somente 4 equacoes para o sympy funcionar."
   ]
  },
  {
   "cell_type": "code",
   "execution_count": 61,
   "metadata": {
    "collapsed": false
   },
   "outputs": [
    {
     "data": {
      "image/png": "[encoded data removed]",
      "text/latex": [
       "$$\\left\\{\\left ( \\frac{56}{65}, \\quad - \\frac{47}{120}, \\quad \\frac{6443}{52}, \\quad \\frac{3037}{52}\\right )\\right\\}$$"
      ],
      "text/plain": [
       "⎧⎛56  -47   6443  3037⎞⎫\n",
       "⎨⎜──, ────, ────, ────⎟⎬\n",
       "⎩⎝65  120    52    52 ⎠⎭"
      ]
     },
     "execution_count": 61,
     "metadata": {},
     "output_type": "execute_result"
    }
   ],
   "source": [
    "from sympy import *\n",
    "from sympy.solvers.solveset import linsolve\n",
    "\n",
    "a,b,x,y = symbols('a,b,x,y')\n",
    "\n",
    "linsolve([30*a + 30*b + x - 138, 30*a - 30*b + y - 96, 160*a + 30*b + x - 250, 30*a - 150*b + y - 143],(a,b,x,y))\n"
   ]
  },
  {
   "cell_type": "code",
   "execution_count": 62,
   "metadata": {
    "collapsed": false
   },
   "outputs": [],
   "source": [
    "a = 56.0/65.0\n",
    "b = -47.0/129.0\n",
    "x = 6443.0/52.0\n",
    "y = 3037.0/52.0"
   ]
  },
  {
   "cell_type": "code",
   "execution_count": 64,
   "metadata": {
    "collapsed": false
   },
   "outputs": [],
   "source": [
    "angulo = math.atan(b/a)\n",
    "fator_aux = a / math.cos(angulo)\n",
    "angulo = math.degrees(angulo)\n",
    "\n",
    "a_final = a / fator_aux\n",
    "b_final= b / fator_aux"
   ]
  },
  {
   "cell_type": "code",
   "execution_count": 65,
   "metadata": {
    "collapsed": false
   },
   "outputs": [],
   "source": [
    "matriz_final= np.array([[a_final, b_final,x], [-b_final, a_final, y]])"
   ]
  },
  {
   "cell_type": "code",
   "execution_count": 66,
   "metadata": {
    "collapsed": false
   },
   "outputs": [
    {
     "data": {
      "text/plain": [
       "<matplotlib.image.AxesImage at 0x7f9cca333090>"
      ]
     },
     "execution_count": 66,
     "metadata": {},
     "output_type": "execute_result"
    },
    {
     "data": {
      "image/png": "[encoded data removed]",
      "text/plain": [
       "<matplotlib.figure.Figure at 0x7f9cca7d93d0>"
      ]
     },
     "metadata": {},
     "output_type": "display_data"
    }
   ],
   "source": [
    "img_rotacionada = cv2.warpAffine(img, matriz_final, (cols, rows))\n",
    "\n",
    "plt.imshow(img_rotacionada)"
   ]
  },
  {
   "cell_type": "markdown",
   "metadata": {},
   "source": [
    "Resultado nao foi exatamente como esperado."
   ]
  },
  {
   "cell_type": "markdown",
   "metadata": {},
   "source": [
    "## Referências\n",
    "\n",
    "\n",
    "\n",
    "[Shapiro and Shepard. Computer Vision. Seção 11.2, Capítulo 11](https://courses.cs.washington.edu/courses/cse576/book/ch11.pdf)\n",
    "\n",
    "[http://docs.opencv.org/3.1.0/da/d6e/tutorial_py_geometric_transformations.html#gsc.tab=0](http://docs.opencv.org/3.1.0/da/d6e/tutorial_py_geometric_transformations.html#gsc.tab=0)\n",
    "\n"
   ]
  }
 ],
 "metadata": {
  "kernelspec": {
   "display_name": "Python 2",
   "language": "python",
   "name": "python2"
  },
  "language_info": {
   "codemirror_mode": {
    "name": "ipython",
    "version": 2
   },
   "file_extension": ".py",
   "mimetype": "text/x-python",
   "name": "python",
   "nbconvert_exporter": "python",
   "pygments_lexer": "ipython2",
   "version": "2.7.6"
  }
 },
 "nbformat": 4,
 "nbformat_minor": 0
}
